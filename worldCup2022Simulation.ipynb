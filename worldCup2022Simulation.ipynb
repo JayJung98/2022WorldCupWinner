{
 "cells": [
  {
   "cell_type": "code",
   "execution_count": 2,
   "id": "85c47c43",
   "metadata": {},
   "outputs": [],
   "source": [
    "import numpy as np\n",
    "import pandas as pd\n",
    "import warnings\n",
    "warnings.filterwarnings(action = 'ignore')\n",
    "\n",
    "rankings = pd.read_csv('./worldCupData/fifaRanking2020-10-06.csv', encoding='windows-1252')\n",
    "matches = pd.read_csv('./worldCupData/results.csv', encoding='windows-1252')\n",
    "groups = pd.read_csv('./worldCupData/Qatar2022-teams.csv')"
   ]
  },
  {
   "cell_type": "code",
   "execution_count": 3,
   "id": "24ce2f9f",
   "metadata": {
    "scrolled": true
   },
   "outputs": [],
   "source": [
    "rankings = rankings.replace({\"IR Iran\": \"Iran\"})\n",
    "rankings = rankings.replace({\"Korea Republic\": \"South Korea\"})\n",
    "rankings['rank_date'] = pd.to_datetime(rankings['rank_date'])\n",
    "matches['date'] = pd.to_datetime(matches['date'])\n",
    "matches = matches.replace({\"United States\": \"USA\"})"
   ]
  },
  {
   "cell_type": "code",
   "execution_count": 4,
   "id": "e2ff33ed",
   "metadata": {},
   "outputs": [
    {
     "data": {
      "text/html": [
       "<div>\n",
       "<style scoped>\n",
       "    .dataframe tbody tr th:only-of-type {\n",
       "        vertical-align: middle;\n",
       "    }\n",
       "\n",
       "    .dataframe tbody tr th {\n",
       "        vertical-align: top;\n",
       "    }\n",
       "\n",
       "    .dataframe thead th {\n",
       "        text-align: right;\n",
       "    }\n",
       "</style>\n",
       "<table border=\"1\" class=\"dataframe\">\n",
       "  <thead>\n",
       "    <tr style=\"text-align: right;\">\n",
       "      <th></th>\n",
       "      <th>rank</th>\n",
       "      <th>country_full</th>\n",
       "      <th>country_abrv</th>\n",
       "      <th>total_points</th>\n",
       "      <th>previous_points</th>\n",
       "      <th>rank_change</th>\n",
       "      <th>confederation</th>\n",
       "      <th>rank_date</th>\n",
       "    </tr>\n",
       "  </thead>\n",
       "  <tbody>\n",
       "    <tr>\n",
       "      <th>0</th>\n",
       "      <td>164</td>\n",
       "      <td>Belize</td>\n",
       "      <td>BLZ</td>\n",
       "      <td>110.0</td>\n",
       "      <td>92.0</td>\n",
       "      <td>-3</td>\n",
       "      <td>CONCACAF</td>\n",
       "      <td>2013-01-17</td>\n",
       "    </tr>\n",
       "    <tr>\n",
       "      <th>1</th>\n",
       "      <td>163</td>\n",
       "      <td>Hong Kong</td>\n",
       "      <td>HKG</td>\n",
       "      <td>111.0</td>\n",
       "      <td>112.0</td>\n",
       "      <td>0</td>\n",
       "      <td>AFC</td>\n",
       "      <td>2013-01-17</td>\n",
       "    </tr>\n",
       "    <tr>\n",
       "      <th>2</th>\n",
       "      <td>120</td>\n",
       "      <td>Kuwait</td>\n",
       "      <td>KUW</td>\n",
       "      <td>276.0</td>\n",
       "      <td>281.0</td>\n",
       "      <td>3</td>\n",
       "      <td>AFC</td>\n",
       "      <td>2013-01-17</td>\n",
       "    </tr>\n",
       "    <tr>\n",
       "      <th>3</th>\n",
       "      <td>153</td>\n",
       "      <td>Faroe Islands</td>\n",
       "      <td>FRO</td>\n",
       "      <td>151.0</td>\n",
       "      <td>151.0</td>\n",
       "      <td>0</td>\n",
       "      <td>UEFA</td>\n",
       "      <td>2013-01-17</td>\n",
       "    </tr>\n",
       "    <tr>\n",
       "      <th>4</th>\n",
       "      <td>152</td>\n",
       "      <td>Palestine</td>\n",
       "      <td>PLE</td>\n",
       "      <td>154.0</td>\n",
       "      <td>152.0</td>\n",
       "      <td>0</td>\n",
       "      <td>AFC</td>\n",
       "      <td>2013-01-17</td>\n",
       "    </tr>\n",
       "  </tbody>\n",
       "</table>\n",
       "</div>"
      ],
      "text/plain": [
       "   rank   country_full country_abrv  total_points  previous_points  \\\n",
       "0   164         Belize          BLZ         110.0             92.0   \n",
       "1   163      Hong Kong          HKG         111.0            112.0   \n",
       "2   120         Kuwait          KUW         276.0            281.0   \n",
       "3   153  Faroe Islands          FRO         151.0            151.0   \n",
       "4   152      Palestine          PLE         154.0            152.0   \n",
       "\n",
       "   rank_change confederation  rank_date  \n",
       "0           -3      CONCACAF 2013-01-17  \n",
       "1            0           AFC 2013-01-17  \n",
       "2            3           AFC 2013-01-17  \n",
       "3            0          UEFA 2013-01-17  \n",
       "4            0           AFC 2013-01-17  "
      ]
     },
     "execution_count": 4,
     "metadata": {},
     "output_type": "execute_result"
    }
   ],
   "source": [
    "rankings.head()"
   ]
  },
  {
   "cell_type": "code",
   "execution_count": 5,
   "id": "7116a09f",
   "metadata": {},
   "outputs": [],
   "source": [
    "country_list = groups['Team'].values.tolist()\n",
    "country_list = sorted(country_list)\n",
    "# country_list"
   ]
  },
  {
   "cell_type": "code",
   "execution_count": 6,
   "id": "f3efd74b",
   "metadata": {},
   "outputs": [],
   "source": [
    "avgRanking = rankings.groupby(['country_full']).mean()\n",
    "avgRanking = avgRanking.reset_index()"
   ]
  },
  {
   "cell_type": "code",
   "execution_count": 7,
   "id": "b29c941c",
   "metadata": {},
   "outputs": [
    {
     "data": {
      "text/plain": [
       "Index(['date', 'home_team', 'away_team', 'home_score', 'away_score',\n",
       "       'tournament', 'country', 'neutral'],\n",
       "      dtype='object')"
      ]
     },
     "execution_count": 7,
     "metadata": {},
     "output_type": "execute_result"
    }
   ],
   "source": [
    "matches.columns"
   ]
  },
  {
   "cell_type": "code",
   "execution_count": 8,
   "id": "882ad2f5",
   "metadata": {},
   "outputs": [
    {
     "data": {
      "text/plain": [
       "283"
      ]
     },
     "execution_count": 8,
     "metadata": {},
     "output_type": "execute_result"
    }
   ],
   "source": [
    "# Different number of data\n",
    "home_offense = matches.groupby(['home_team']).mean()['home_score'].fillna(0)\n",
    "len(home_offense)"
   ]
  },
  {
   "cell_type": "code",
   "execution_count": 9,
   "id": "d6990116",
   "metadata": {},
   "outputs": [
    {
     "data": {
      "text/plain": [
       "278"
      ]
     },
     "execution_count": 9,
     "metadata": {},
     "output_type": "execute_result"
    }
   ],
   "source": [
    "# Different number of data\n",
    "away_offense = matches.groupby(['away_team']).mean()['away_score'].fillna(0)\n",
    "len(away_offense)"
   ]
  },
  {
   "cell_type": "markdown",
   "id": "0b0cda60",
   "metadata": {},
   "source": [
    "Different number of data <br>\n",
    "so extract countries which join the 2022 Qatar World Cup <br><br>\n",
    "Countries: ['Senegal',\n",
    " 'Qatar',\n",
    " 'Netherlands',\n",
    " 'Ecuador',\n",
    " 'Iran',\n",
    " 'England',\n",
    " 'USA',\n",
    " 'Wales',\n",
    " 'Argentina',\n",
    " 'Saudi Arabia',\n",
    " 'Mexico',\n",
    " 'Poland',\n",
    " 'Denmark',\n",
    " 'Tunisia',\n",
    " 'France',\n",
    " 'Australia',\n",
    " 'Germany',\n",
    " 'Japan',\n",
    " 'Spain',\n",
    " 'Costa Rica',\n",
    " 'Morocco',\n",
    " 'Croatia',\n",
    " 'Belgium',\n",
    " 'Canada',\n",
    " 'Switzerland',\n",
    " 'Cameroon',\n",
    " 'Brazil',\n",
    " 'Serbia',\n",
    " 'Uruguay',\n",
    " 'South Korea',\n",
    " 'Portugal',\n",
    " 'Ghana']"
   ]
  },
  {
   "cell_type": "code",
   "execution_count": 10,
   "id": "5e4293cc",
   "metadata": {},
   "outputs": [],
   "source": [
    "home = home_offense.to_frame().reset_index()\n",
    "away = away_offense.to_frame().reset_index()"
   ]
  },
  {
   "cell_type": "code",
   "execution_count": 11,
   "id": "5a9136d8",
   "metadata": {},
   "outputs": [],
   "source": [
    "home = home[home['home_team'].isin(country_list)].reset_index()\n",
    "home = home.drop(['index'], axis = 1)\n",
    "#home"
   ]
  },
  {
   "cell_type": "code",
   "execution_count": 12,
   "id": "10e76546",
   "metadata": {},
   "outputs": [],
   "source": [
    "away = away[away['away_team'].isin(country_list)].reset_index()\n",
    "away = away.drop(['index'], axis = 1)\n",
    "# away"
   ]
  },
  {
   "cell_type": "code",
   "execution_count": 13,
   "id": "3434e417",
   "metadata": {},
   "outputs": [],
   "source": [
    "wc_score = pd.DataFrame()\n",
    "wc_score['country_name'] = country_list\n",
    "wc_score['offense_score'] = round((home['home_score'] * 0.3 + away['away_score'] * 0.7), 2) # Most gmaes are away game so I weighted more in away_score\n",
    "# wc_score"
   ]
  },
  {
   "cell_type": "code",
   "execution_count": 14,
   "id": "4cee2218",
   "metadata": {},
   "outputs": [],
   "source": [
    "home_diffense = matches.groupby(['home_team']).mean()['away_score'].fillna(0)\n",
    "away_diffense = matches.groupby(['away_team']).mean()['home_score'].fillna(0)\n",
    "home = home_diffense.to_frame().reset_index()\n",
    "away = away_diffense.to_frame().reset_index()\n",
    "home = home[home['home_team'].isin(country_list)].reset_index()\n",
    "home = home.drop(['index'], axis = 1)\n",
    "away = away[away['away_team'].isin(country_list)].reset_index()\n",
    "away = away.drop(['index'], axis = 1)\n",
    "wc_score['diffense_score'] = round(home['away_score'] * 0.3 + away['home_score'] * 0.7, 2) # most games are away\n",
    "wc_score['GD'] = (wc_score['offense_score'] - wc_score['diffense_score']) # Goals Difference\n",
    "# wc_score"
   ]
  },
  {
   "cell_type": "code",
   "execution_count": 15,
   "id": "4d71f2a5",
   "metadata": {},
   "outputs": [
    {
     "data": {
      "text/html": [
       "<div>\n",
       "<style scoped>\n",
       "    .dataframe tbody tr th:only-of-type {\n",
       "        vertical-align: middle;\n",
       "    }\n",
       "\n",
       "    .dataframe tbody tr th {\n",
       "        vertical-align: top;\n",
       "    }\n",
       "\n",
       "    .dataframe thead th {\n",
       "        text-align: right;\n",
       "    }\n",
       "</style>\n",
       "<table border=\"1\" class=\"dataframe\">\n",
       "  <thead>\n",
       "    <tr style=\"text-align: right;\">\n",
       "      <th></th>\n",
       "      <th>country_full</th>\n",
       "      <th>rank</th>\n",
       "    </tr>\n",
       "  </thead>\n",
       "  <tbody>\n",
       "    <tr>\n",
       "      <th>0</th>\n",
       "      <td>Afghanistan</td>\n",
       "      <td>146.207921</td>\n",
       "    </tr>\n",
       "    <tr>\n",
       "      <th>1</th>\n",
       "      <td>Albania</td>\n",
       "      <td>56.524752</td>\n",
       "    </tr>\n",
       "    <tr>\n",
       "      <th>2</th>\n",
       "      <td>Algeria</td>\n",
       "      <td>37.930693</td>\n",
       "    </tr>\n",
       "    <tr>\n",
       "      <th>3</th>\n",
       "      <td>American Samoa</td>\n",
       "      <td>190.396040</td>\n",
       "    </tr>\n",
       "    <tr>\n",
       "      <th>4</th>\n",
       "      <td>Andorra</td>\n",
       "      <td>173.128713</td>\n",
       "    </tr>\n",
       "  </tbody>\n",
       "</table>\n",
       "</div>"
      ],
      "text/plain": [
       "     country_full        rank\n",
       "0     Afghanistan  146.207921\n",
       "1         Albania   56.524752\n",
       "2         Algeria   37.930693\n",
       "3  American Samoa  190.396040\n",
       "4         Andorra  173.128713"
      ]
     },
     "execution_count": 15,
     "metadata": {},
     "output_type": "execute_result"
    }
   ],
   "source": [
    "avgRanking = avgRanking[['country_full', 'rank']]\n",
    "avgRanking.head()"
   ]
  },
  {
   "cell_type": "code",
   "execution_count": 16,
   "id": "a12fe904",
   "metadata": {},
   "outputs": [],
   "source": [
    "avgRank = avgRanking[avgRanking['country_full'].isin(country_list)].reset_index()\n",
    "avgRank = avgRank.drop(['index'], axis = 1)\n",
    "# avgRank"
   ]
  },
  {
   "cell_type": "code",
   "execution_count": 17,
   "id": "4f1fd366",
   "metadata": {},
   "outputs": [],
   "source": [
    "matches['score_difference_home'] = matches['home_score'] - matches['away_score']\n",
    "matches['score_difference_away'] = matches['away_score'] - matches['home_score']\n",
    "matches['home win'] = ((matches['score_difference_home'] > 0) & (matches['tournament'] != 'Friendly'))\n",
    "matches['away win'] = ((matches['score_difference_away'] > 0) & (matches['tournament'] != 'Friendly'))\n",
    "matches = matches[(matches['home_team'].isin(country_list)) | matches['away_team'].isin(country_list)]\n",
    "# matches"
   ]
  },
  {
   "cell_type": "code",
   "execution_count": 18,
   "id": "09ad919d",
   "metadata": {},
   "outputs": [],
   "source": [
    "winRate = {'country' : [], 'winrate': []}\n",
    "for i in country_list:\n",
    "    count = matches[(matches['home_team'] == i) | (matches['away_team'] == i) == True]\n",
    "    winRate['country'].append(i)\n",
    "    winRate['winrate'].append((len(count[count['home win']] == True) + len(count[count['away win']] == True)) / len(count))\n",
    "    \n",
    "winRate = pd.DataFrame(winRate)\n",
    "#winRate"
   ]
  },
  {
   "cell_type": "code",
   "execution_count": 19,
   "id": "ba318f75",
   "metadata": {},
   "outputs": [],
   "source": [
    "curRank = rankings[rankings['country_full'].isin(country_list)]\n",
    "curRank = curRank.loc[curRank['rank_date'] == '2022-10-06'][['country_full', 'rank']]\n",
    "curRank = curRank.sort_values('country_full')\n",
    "wc_score['current_rank']= curRank['rank'].values.tolist()\n",
    "wc_score['avgRank'] = round(avgRank['rank'], 2)\n",
    "wc_score['winRate'] = round(winRate['winrate'], 2)\n",
    "wc_score = wc_score[['country_name', 'current_rank', 'avgRank', 'GD', 'winRate']]\n",
    "wc_score = wc_score.sort_values('current_rank').reset_index().drop(['index'], axis = 1)\n",
    "#wc_score"
   ]
  },
  {
   "cell_type": "code",
   "execution_count": 20,
   "id": "30165fd1",
   "metadata": {},
   "outputs": [
    {
     "data": {
      "text/html": [
       "<style type=\"text/css\">\n",
       "#T_6afc5_row0_col0, #T_6afc5_row1_col1, #T_6afc5_row2_col2, #T_6afc5_row3_col3 {\n",
       "  background-color: #023858;\n",
       "  color: #f1f1f1;\n",
       "}\n",
       "#T_6afc5_row0_col1 {\n",
       "  background-color: #045788;\n",
       "  color: #f1f1f1;\n",
       "}\n",
       "#T_6afc5_row0_col2, #T_6afc5_row1_col3, #T_6afc5_row2_col0, #T_6afc5_row2_col1 {\n",
       "  background-color: #fff7fb;\n",
       "  color: #000000;\n",
       "}\n",
       "#T_6afc5_row0_col3 {\n",
       "  background-color: #fef6fa;\n",
       "  color: #000000;\n",
       "}\n",
       "#T_6afc5_row1_col0 {\n",
       "  background-color: #045483;\n",
       "  color: #f1f1f1;\n",
       "}\n",
       "#T_6afc5_row1_col2 {\n",
       "  background-color: #f0eaf4;\n",
       "  color: #000000;\n",
       "}\n",
       "#T_6afc5_row2_col3 {\n",
       "  background-color: #65a3cb;\n",
       "  color: #f1f1f1;\n",
       "}\n",
       "#T_6afc5_row3_col0 {\n",
       "  background-color: #d6d6e9;\n",
       "  color: #000000;\n",
       "}\n",
       "#T_6afc5_row3_col1 {\n",
       "  background-color: #ece7f2;\n",
       "  color: #000000;\n",
       "}\n",
       "#T_6afc5_row3_col2 {\n",
       "  background-color: #348ebf;\n",
       "  color: #f1f1f1;\n",
       "}\n",
       "</style>\n",
       "<table id=\"T_6afc5\">\n",
       "  <thead>\n",
       "    <tr>\n",
       "      <th class=\"blank level0\" >&nbsp;</th>\n",
       "      <th id=\"T_6afc5_level0_col0\" class=\"col_heading level0 col0\" >current_rank</th>\n",
       "      <th id=\"T_6afc5_level0_col1\" class=\"col_heading level0 col1\" >avgRank</th>\n",
       "      <th id=\"T_6afc5_level0_col2\" class=\"col_heading level0 col2\" >GD</th>\n",
       "      <th id=\"T_6afc5_level0_col3\" class=\"col_heading level0 col3\" >winRate</th>\n",
       "    </tr>\n",
       "  </thead>\n",
       "  <tbody>\n",
       "    <tr>\n",
       "      <th id=\"T_6afc5_level0_row0\" class=\"row_heading level0 row0\" >current_rank</th>\n",
       "      <td id=\"T_6afc5_row0_col0\" class=\"data row0 col0\" >1.000000</td>\n",
       "      <td id=\"T_6afc5_row0_col1\" class=\"data row0 col1\" >0.827994</td>\n",
       "      <td id=\"T_6afc5_row0_col2\" class=\"data row0 col2\" >-0.675269</td>\n",
       "      <td id=\"T_6afc5_row0_col3\" class=\"data row0 col3\" >-0.299605</td>\n",
       "    </tr>\n",
       "    <tr>\n",
       "      <th id=\"T_6afc5_level0_row1\" class=\"row_heading level0 row1\" >avgRank</th>\n",
       "      <td id=\"T_6afc5_row1_col0\" class=\"data row1 col0\" >0.827994</td>\n",
       "      <td id=\"T_6afc5_row1_col1\" class=\"data row1 col1\" >1.000000</td>\n",
       "      <td id=\"T_6afc5_row1_col2\" class=\"data row1 col2\" >-0.502896</td>\n",
       "      <td id=\"T_6afc5_row1_col3\" class=\"data row1 col3\" >-0.313125</td>\n",
       "    </tr>\n",
       "    <tr>\n",
       "      <th id=\"T_6afc5_level0_row2\" class=\"row_heading level0 row2\" >GD</th>\n",
       "      <td id=\"T_6afc5_row2_col0\" class=\"data row2 col0\" >-0.675269</td>\n",
       "      <td id=\"T_6afc5_row2_col1\" class=\"data row2 col1\" >-0.502896</td>\n",
       "      <td id=\"T_6afc5_row2_col2\" class=\"data row2 col2\" >1.000000</td>\n",
       "      <td id=\"T_6afc5_row2_col3\" class=\"data row2 col3\" >0.383654</td>\n",
       "    </tr>\n",
       "    <tr>\n",
       "      <th id=\"T_6afc5_level0_row3\" class=\"row_heading level0 row3\" >winRate</th>\n",
       "      <td id=\"T_6afc5_row3_col0\" class=\"data row3 col0\" >-0.299605</td>\n",
       "      <td id=\"T_6afc5_row3_col1\" class=\"data row3 col1\" >-0.313125</td>\n",
       "      <td id=\"T_6afc5_row3_col2\" class=\"data row3 col2\" >0.383654</td>\n",
       "      <td id=\"T_6afc5_row3_col3\" class=\"data row3 col3\" >1.000000</td>\n",
       "    </tr>\n",
       "  </tbody>\n",
       "</table>\n"
      ],
      "text/plain": [
       "<pandas.io.formats.style.Styler at 0x1617f0e1c40>"
      ]
     },
     "execution_count": 20,
     "metadata": {},
     "output_type": "execute_result"
    }
   ],
   "source": [
    "corr = wc_score.corr()\n",
    "corr.style.background_gradient()"
   ]
  },
  {
   "cell_type": "markdown",
   "id": "180fa02a",
   "metadata": {},
   "source": [
    "Conclusion of this Data Frame: "
   ]
  },
  {
   "cell_type": "code",
   "execution_count": 21,
   "id": "eaeaf46c",
   "metadata": {},
   "outputs": [],
   "source": [
    "# I want to have the ranks for every day \n",
    "rankings = rankings.set_index(['rank_date'])\\\n",
    "            .groupby(['country_full'], group_keys=False)\\\n",
    "            .resample('D').first()\\\n",
    "            .fillna(method='ffill')\\\n",
    "            .reset_index()\n",
    "\n",
    "# join the ranks\n",
    "matches = matches.merge(rankings, \n",
    "                        left_on=['date', 'home_team'], \n",
    "                        right_on=['rank_date', 'country_full'])\n",
    "matches = matches.merge(rankings, \n",
    "                        left_on=['date', 'away_team'], \n",
    "                        right_on=['rank_date', 'country_full'], \n",
    "                        suffixes=('_home', '_away'))"
   ]
  },
  {
   "cell_type": "code",
   "execution_count": 22,
   "id": "7040a1f6",
   "metadata": {},
   "outputs": [
    {
     "data": {
      "text/plain": [
       "Index(['date', 'home_team', 'away_team', 'home_score', 'away_score',\n",
       "       'tournament', 'country', 'neutral', 'score_difference_home',\n",
       "       'score_difference_away', 'home win', 'away win', 'rank_date_home',\n",
       "       'rank_home', 'country_full_home', 'country_abrv_home',\n",
       "       'total_points_home', 'previous_points_home', 'rank_change_home',\n",
       "       'confederation_home', 'rank_date_away', 'rank_away',\n",
       "       'country_full_away', 'country_abrv_away', 'total_points_away',\n",
       "       'previous_points_away', 'rank_change_away', 'confederation_away'],\n",
       "      dtype='object')"
      ]
     },
     "execution_count": 22,
     "metadata": {},
     "output_type": "execute_result"
    }
   ],
   "source": [
    "matches.tail().columns"
   ]
  },
  {
   "cell_type": "code",
   "execution_count": 23,
   "id": "97c67e7f",
   "metadata": {},
   "outputs": [],
   "source": [
    "matches['score_diff'] = matches['home_score'] - matches['away_score']\n",
    "matches['win'] = matches['score_diff'] > 0 # draw is not win\n",
    "matches['is_stake'] = matches['tournament'] != 'Friendly'\n",
    "matches['rank_diff'] = matches['rank_home'] - matches['rank_away']\n",
    "matches['avg_rank'] = (matches['rank_home'] + matches['rank_away'])/2\n",
    "matches['avg_diff'] = -(matches['total_points_home'] - matches['total_points_away'])/10"
   ]
  },
  {
   "cell_type": "markdown",
   "id": "cdc5f47f",
   "metadata": {},
   "source": [
    "## 3. Modeling"
   ]
  },
  {
   "cell_type": "code",
   "execution_count": 24,
   "id": "b86c6966",
   "metadata": {},
   "outputs": [],
   "source": [
    "from sklearn import ensemble\n",
    "from sklearn.model_selection import train_test_split\n",
    "from sklearn.metrics import confusion_matrix, roc_curve, roc_auc_score\n",
    "from sklearn.pipeline import Pipeline\n",
    "from sklearn.preprocessing import PolynomialFeatures\n",
    "from matplotlib import pyplot as plt"
   ]
  },
  {
   "cell_type": "code",
   "execution_count": 25,
   "id": "3d8b321d",
   "metadata": {},
   "outputs": [],
   "source": [
    "from xgboost import XGBClassifier\n",
    "from sklearn import linear_model\n",
    "from sklearn.ensemble import GradientBoostingClassifier\n",
    "from sklearn.ensemble import AdaBoostClassifier\n",
    "from sklearn.svm import SVC"
   ]
  },
  {
   "cell_type": "code",
   "execution_count": 26,
   "id": "9835d4e4",
   "metadata": {},
   "outputs": [],
   "source": [
    "X, y = matches.loc[:,['avg_rank', 'rank_diff', 'avg_diff', 'is_stake']], matches['win']\n",
    "X_train, X_test, y_train, y_test = train_test_split(\n",
    "    X, y, test_size=0.2, random_state = 42)\n",
    "acc_score = {'model_name' : [], 'score': []}"
   ]
  },
  {
   "cell_type": "code",
   "execution_count": 27,
   "id": "9f45d4cd",
   "metadata": {},
   "outputs": [],
   "source": [
    "clf = linear_model.LogisticRegression(random_state = 42, max_iter = 1000)\n",
    "clf.fit(X_train, y_train)\n",
    "clf_acc = clf.score(X_test, y_test)\n",
    "acc_score['model_name'].append('logistic regression')\n",
    "acc_score['score'].append(clf_acc)"
   ]
  },
  {
   "cell_type": "code",
   "execution_count": 28,
   "id": "9b0432b0",
   "metadata": {},
   "outputs": [],
   "source": [
    "xgb = XGBClassifier(n_estimators = 100, learning_rate = 0.1)\n",
    "xgb.fit(X_train, y_train)\n",
    "xgb_acc = xgb.score(X_test, y_test)\n",
    "acc_score['model_name'].append('XGB')\n",
    "acc_score['score'].append(xgb_acc)"
   ]
  },
  {
   "cell_type": "code",
   "execution_count": 29,
   "id": "1086dc3e",
   "metadata": {},
   "outputs": [],
   "source": [
    "gbdt = GradientBoostingClassifier(random_state = 42)\n",
    "gbdt.fit(X_train, y_train)\n",
    "gbdt_acc = gbdt.score(X_test, y_test)\n",
    "acc_score['model_name'].append('GBDT')\n",
    "acc_score['score'].append(gbdt_acc)"
   ]
  },
  {
   "cell_type": "code",
   "execution_count": 30,
   "id": "799f9623",
   "metadata": {},
   "outputs": [],
   "source": [
    "ada = AdaBoostClassifier(random_state = 42)\n",
    "ada.fit(X_train, y_train)\n",
    "ada_acc = ada.score(X_test, y_test)\n",
    "acc_score['model_name'].append('ADA')\n",
    "acc_score['score'].append(ada_acc)"
   ]
  },
  {
   "cell_type": "code",
   "execution_count": 31,
   "id": "b36d7fef",
   "metadata": {},
   "outputs": [],
   "source": [
    "acc_score = pd.DataFrame(acc_score)"
   ]
  },
  {
   "cell_type": "code",
   "execution_count": 32,
   "id": "0fb0328f",
   "metadata": {},
   "outputs": [],
   "source": [
    "acc_score = acc_score.sort_values(['score'], ascending = False)"
   ]
  },
  {
   "cell_type": "code",
   "execution_count": 33,
   "id": "9801a22c",
   "metadata": {},
   "outputs": [
    {
     "data": {
      "image/png": "[encoded data removed]",
      "text/plain": [
       "<Figure size 640x480 with 1 Axes>"
      ]
     },
     "metadata": {},
     "output_type": "display_data"
    }
   ],
   "source": [
    "plt.bar(acc_score['model_name'], acc_score['score'])\n",
    "plt.xticks(rotation = 90)\n",
    "plt.show()"
   ]
  },
  {
   "cell_type": "markdown",
   "id": "a3243f71",
   "metadata": {},
   "source": [
    "best accuracy is lositic regression for this data"
   ]
  },
  {
   "cell_type": "markdown",
   "id": "cac41711",
   "metadata": {},
   "source": [
    "### 3.1 Explanation of this graph: "
   ]
  },
  {
   "cell_type": "code",
   "execution_count": 34,
   "id": "bad23173",
   "metadata": {},
   "outputs": [
    {
     "data": {
      "image/png": "[encoded data removed]",
      "text/plain": [
       "<Figure size 1500x500 with 3 Axes>"
      ]
     },
     "metadata": {},
     "output_type": "display_data"
    }
   ],
   "source": [
    "logreg = linear_model.LogisticRegression()\n",
    "\n",
    "features = PolynomialFeatures(degree=2)\n",
    "model = Pipeline([\n",
    "    ('polynomial_features', features),\n",
    "    ('logistic_regression', logreg)\n",
    "])\n",
    "model = model.fit(X_train, y_train)\n",
    "\n",
    "# figures \n",
    "fpr, tpr, _ = roc_curve(y_test, model.predict_proba(X_test)[:,1])\n",
    "plt.figure(figsize=(15,5))\n",
    "ax = plt.subplot(1,3,1)\n",
    "ax.plot([0, 1], [0, 1], 'k--')\n",
    "ax.plot(fpr, tpr)\n",
    "ax.set_title('AUC score is {0:0.2}'.format(roc_auc_score(y_test, model.predict_proba(X_test)[:,1])))\n",
    "ax.set_aspect(1)\n",
    "\n",
    "ax = plt.subplot(1,3,2)\n",
    "cm = confusion_matrix(y_test, model.predict(X_test))\n",
    "ax.imshow(cm, cmap='Blues', clim = (0, cm.max())) \n",
    "\n",
    "ax.set_xlabel('Predicted label')\n",
    "ax.set_title('Performance on the Test set')\n",
    "\n",
    "ax = plt.subplot(1,3,3)\n",
    "cm = confusion_matrix(y_train, model.predict(X_train))\n",
    "ax.imshow(cm, cmap='Blues', clim = (0, cm.max())) \n",
    "ax.set_xlabel('Predicted label')\n",
    "ax.set_title('Performance on the Training set')\n",
    "pass"
   ]
  },
  {
   "cell_type": "markdown",
   "id": "02068a7a",
   "metadata": {},
   "source": [
    "### 3.2Conclusion of this performance: "
   ]
  },
  {
   "cell_type": "code",
   "execution_count": 35,
   "id": "d6c87ec4",
   "metadata": {},
   "outputs": [
    {
     "name": "stdout",
     "output_type": "stream",
     "text": [
      "Stakes distribution in the wrong predictions\n",
      "True     0.635838\n",
      "False    0.364162\n",
      "Name: is_stake, dtype: float64\n",
      "Stakes distribution overall\n",
      "True     0.672328\n",
      "False    0.327672\n",
      "Name: is_stake, dtype: float64\n"
     ]
    },
    {
     "data": {
      "image/png": "[encoded data removed]",
      "text/plain": [
       "<Figure size 640x480 with 1 Axes>"
      ]
     },
     "metadata": {},
     "output_type": "display_data"
    },
    {
     "data": {
      "image/png": "[encoded data removed]",
      "text/plain": [
       "<Figure size 640x480 with 1 Axes>"
      ]
     },
     "metadata": {},
     "output_type": "display_data"
    },
    {
     "data": {
      "image/png": "[encoded data removed]",
      "text/plain": [
       "<Figure size 640x480 with 1 Axes>"
      ]
     },
     "metadata": {},
     "output_type": "display_data"
    }
   ],
   "source": [
    "features = ['avg_rank', 'rank_diff', 'avg_diff']\n",
    "wrongs = y_test != model.predict(X_test)\n",
    "\n",
    "for feature in features:\n",
    "    plt.figure()\n",
    "    plt.title(feature)\n",
    "    X_test.loc[wrongs, feature].plot.kde()\n",
    "    X.loc[:, feature].plot.kde()\n",
    "    plt.legend(['wrongs', 'all'])\n",
    "    \n",
    "print(\"Stakes distribution in the wrong predictions\")\n",
    "print(X_test.loc[wrongs, 'is_stake'].value_counts() / wrongs.sum())\n",
    "print(\"Stakes distribution overall\")\n",
    "print(X['is_stake'].value_counts() / X.shape[0])"
   ]
  },
  {
   "cell_type": "markdown",
   "id": "0863e7bc",
   "metadata": {},
   "source": [
    "## 4. Simulation"
   ]
  },
  {
   "cell_type": "code",
   "execution_count": 36,
   "id": "4ae0f315",
   "metadata": {},
   "outputs": [],
   "source": [
    "wc_score = wc_score.set_index('country_name')"
   ]
  },
  {
   "cell_type": "code",
   "execution_count": 37,
   "id": "dea81cbb",
   "metadata": {},
   "outputs": [],
   "source": [
    "wc_score['country_abrv'] = ['BRA', 'BEL', 'ARG', 'FRA', 'ENG', 'ESP', 'NED', 'POR', 'DEN', 'GER', 'CRO', 'MEX',\n",
    "                            'URU','SUI', 'USA', 'SEN', 'WAL', 'IRN', 'SER','MAR', 'JPN', 'POL', 'KOR', 'TUN',\n",
    "                           'CRC', 'AUS', 'CAN', 'CMR', 'ECU', 'QAT', 'KSA', 'GHA']"
   ]
  },
  {
   "cell_type": "code",
   "execution_count": 38,
   "id": "940ffff3",
   "metadata": {},
   "outputs": [],
   "source": [
    "from itertools import combinations\n",
    "# let's define a small margin when we safer to predict draw then win\n",
    "margin = 0.05\n",
    "groups['points'] = 0\n",
    "groups['total_prob'] = 0\n",
    "groups = groups.set_index('Team')\n",
    "opponents = ['First match \\nagainst', 'Second match\\n against', 'Third match\\n against']"
   ]
  },
  {
   "cell_type": "code",
   "execution_count": 39,
   "id": "29c3c1f3",
   "metadata": {},
   "outputs": [
    {
     "data": {
      "text/plain": [
       "{'A', 'B', 'C', 'D', 'E', 'F', 'G', 'H'}"
      ]
     },
     "execution_count": 39,
     "metadata": {},
     "output_type": "execute_result"
    }
   ],
   "source": [
    "set(groups['Group'])"
   ]
  },
  {
   "cell_type": "code",
   "execution_count": 40,
   "id": "fe7cdbee",
   "metadata": {},
   "outputs": [
    {
     "name": "stdout",
     "output_type": "stream",
     "text": [
      "----------------------Group G----------------------\n",
      "Switzerland vs. Cameroon: Switzerland wins with 0.65\n",
      "Switzerland vs. Brazil: Brazil wins with 0.63\n",
      "Switzerland vs. Serbia: Draw\n",
      "Cameroon vs. Brazil: Brazil wins with 0.82\n",
      "Cameroon vs. Serbia: Serbia wins with 0.69\n",
      "Brazil vs. Serbia: Brazil wins with 0.66\n",
      "----------------------Group D----------------------\n",
      "Denmark vs. Tunisia: Denmark wins with 0.63\n",
      "Denmark vs. France: France wins with 0.59\n",
      "Denmark vs. Australia: Denmark wins with 0.68\n",
      "Tunisia vs. France: France wins with 0.73\n",
      "Tunisia vs. Australia: Draw\n",
      "France vs. Australia: France wins with 0.73\n",
      "----------------------Group H----------------------\n",
      "Uruguay vs. South Korea: Uruguay wins with 0.56\n",
      "Uruguay vs. Portugal: Portugal wins with 0.56\n",
      "Uruguay vs. Ghana: Uruguay wins with 0.77\n",
      "South Korea vs. Portugal: Portugal wins with 0.71\n",
      "South Korea vs. Ghana: South Korea wins with 0.68\n",
      "Portugal vs. Ghana: Portugal wins with 0.80\n",
      "----------------------Group C----------------------\n",
      "Argentina vs. Saudi Arabia: Argentina wins with 0.76\n",
      "Argentina vs. Mexico: Argentina wins with 0.58\n",
      "Argentina vs. Poland: Argentina wins with 0.67\n",
      "Saudi Arabia vs. Mexico: Mexico wins with 0.79\n",
      "Saudi Arabia vs. Poland: Poland wins with 0.69\n",
      "Mexico vs. Poland: Mexico wins with 0.58\n",
      "----------------------Group E----------------------\n",
      "Germany vs. Japan: Germany wins with 0.57\n",
      "Germany vs. Spain: Draw\n",
      "Germany vs. Costa Rica: Germany wins with 0.63\n",
      "Japan vs. Spain: Spain wins with 0.70\n",
      "Japan vs. Costa Rica: Draw\n",
      "Spain vs. Costa Rica: Spain wins with 0.66\n",
      "----------------------Group A----------------------\n",
      "Senegal vs. Qatar: Senegal wins with 0.65\n",
      "Senegal vs. Netherlands: Netherlands wins with 0.63\n",
      "Senegal vs. Ecuador: Senegal wins with 0.64\n",
      "Qatar vs. Netherlands: Netherlands wins with 0.82\n",
      "Qatar vs. Ecuador: Ecuador wins with 0.56\n",
      "Netherlands vs. Ecuador: Netherlands wins with 0.73\n",
      "----------------------Group B----------------------\n",
      "Iran vs. England: England wins with 0.67\n",
      "Iran vs. USA: USA wins with 0.57\n",
      "Iran vs. Wales: Draw\n",
      "England vs. USA: England wins with 0.58\n",
      "England vs. Wales: England wins with 0.61\n",
      "USA vs. Wales: Draw\n",
      "----------------------Group F----------------------\n",
      "Morocco vs. Croatia: Croatia wins with 0.68\n",
      "Morocco vs. Belgium: Belgium wins with 0.77\n",
      "Morocco vs. Canada: Morocco wins with 0.58\n",
      "Croatia vs. Belgium: Belgium wins with 0.60\n",
      "Croatia vs. Canada: Croatia wins with 0.56\n",
      "Belgium vs. Canada: Belgium wins with 0.67\n"
     ]
    }
   ],
   "source": [
    "for group in set(groups['Group']):\n",
    "    print('----------------------Group {}----------------------'.format(group))\n",
    "    for home, away in combinations(groups.query('Group == \"{}\"'.format(group)).index, 2):\n",
    "        print(\"{} vs. {}: \".format(home, away), end='')\n",
    "        row = pd.DataFrame(np.array([[np.nan, np.nan, np.nan, True]]), columns=X_test.columns)\n",
    "        #row = row.fillna(0)\n",
    "        home_rank = wc_score.loc[home, 'current_rank']\n",
    "        home_avg = wc_score.loc[home, 'avgRank']\n",
    "        opp_rank = wc_score.loc[away, 'current_rank']\n",
    "        opp_avg = wc_score.loc[away, 'avgRank']\n",
    "        row['avg_rank'] = (home_rank + opp_rank) / 2\n",
    "        row['rank_diff'] = home_rank - opp_rank\n",
    "        row['avg_diff'] = home_avg - opp_avg\n",
    "        home_win_prob = model.predict_proba(row)[:,1][0]\n",
    "        groups.loc[home, 'total_prob'] += home_win_prob\n",
    "        groups.loc[away, 'total_prob'] += 1-home_win_prob\n",
    "        \n",
    "        points = 0\n",
    "        if home_win_prob <= 0.5 - margin:\n",
    "            print(\"{} wins with {:.2f}\".format(away, 1-home_win_prob))\n",
    "            groups.loc[away, 'points'] += 3\n",
    "        if home_win_prob > 0.5 - margin:\n",
    "            points = 1\n",
    "        if home_win_prob >= 0.5 + margin:\n",
    "            points = 3\n",
    "            groups.loc[home, 'points'] += 3\n",
    "            print(\"{} wins with {:.2f}\".format(home, home_win_prob))\n",
    "        if points == 1:\n",
    "            print(\"Draw\")\n",
    "            groups.loc[home, 'points'] += 1\n",
    "            groups.loc[away, 'points'] += 1"
   ]
  },
  {
   "cell_type": "code",
   "execution_count": 42,
   "id": "98adfd9f",
   "metadata": {},
   "outputs": [
    {
     "name": "stdout",
     "output_type": "stream",
     "text": [
      "----------------------Round_of_16----------------------\n",
      "Netherlands vs. USA: Netherlands wins with probability 0.56\n",
      "Argentina vs. Denmark: Argentina wins with probability 0.57\n",
      "Spain vs. Croatia: Spain wins with probability 0.53\n",
      "Brazil vs. Uruguay: Brazil wins with probability 0.59\n",
      "Senegal vs. England: England wins with probability 0.62\n",
      "Mexico vs. France: France wins with probability 0.58\n",
      "Germany vs. Belgium: Belgium wins with probability 0.58\n",
      "Switzerland vs. Portugal: Portugal wins with probability 0.56\n",
      "\n",
      "\n",
      "----------------------Quarterfinal----------------------\n",
      "Netherlands vs. Argentina: Argentina wins with probability 0.55\n",
      "Spain vs. Brazil: Brazil wins with probability 0.55\n",
      "England vs. France: France wins with probability 0.51\n",
      "Belgium vs. Portugal: Belgium wins with probability 0.55\n",
      "\n",
      "\n",
      "----------------------Semifinal----------------------\n",
      "Argentina vs. Brazil: Brazil wins with probability 0.52\n",
      "France vs. Belgium: Belgium wins with probability 0.52\n",
      "\n",
      "\n",
      "----------------------Final----------------------\n",
      "Brazil vs. Belgium: Brazil wins with probability 0.50\n",
      "\n",
      "\n"
     ]
    }
   ],
   "source": [
    "pairing = [0,3,4,7,8,11,12,15,1,2,5,6,9,10,13,14]\n",
    "\n",
    "groups = groups.sort_values(by=['Group', 'points', 'total_prob'], ascending=False).reset_index()\n",
    "next_round_wc = groups.groupby('Group').nth([0, 1]) # select the top 2\n",
    "next_round_wc = next_round_wc.reset_index()\n",
    "next_round_wc = next_round_wc.loc[pairing]\n",
    "next_round_wc = next_round_wc.set_index('Team')\n",
    "\n",
    "finals = ['Round_of_16', 'Quarterfinal', 'Semifinal', 'Final']\n",
    "\n",
    "labels = list()\n",
    "odds = list()\n",
    "\n",
    "for f in finals:\n",
    "    print(\"----------------------{}----------------------\".format(f))\n",
    "    iterations = int(len(next_round_wc) / 2)\n",
    "    winners = []\n",
    "\n",
    "    for i in range(iterations):\n",
    "        home = next_round_wc.index[i*2]\n",
    "        away = next_round_wc.index[i*2+1]\n",
    "        print(\"{} vs. {}: \".format(home,\n",
    "                                   away), \n",
    "                                   end='')\n",
    "        row = pd.DataFrame(np.array([[np.nan, np.nan, np.nan, True]]), columns=X_test.columns)\n",
    "        home_rank = wc_score.loc[home, 'current_rank']\n",
    "        avgRank = wc_score.loc[home, 'avgRank']\n",
    "        opp_rank = wc_score.loc[away, 'current_rank']\n",
    "        opp_avg = wc_score.loc[away, 'avgRank']\n",
    "        row['avg_rank'] = (home_rank + opp_rank) / 2\n",
    "        row['rank_diff'] = home_rank - opp_rank\n",
    "        row['avg_diff'] = home_avg - opp_avg\n",
    "        home_win_prob = model.predict_proba(row)[:,1][0]\n",
    "        if model.predict_proba(row)[:,1] <= 0.5:\n",
    "            print(\"{0} wins with probability {1:.2f}\".format(away, 1-home_win_prob))\n",
    "            winners.append(away)\n",
    "        else:\n",
    "            print(\"{0} wins with probability {1:.2f}\".format(home, home_win_prob))\n",
    "            winners.append(home)\n",
    "\n",
    "        labels.append(\"{}({:.2f}) vs. {}({:.2f})\".format(wc_score.loc[home, 'country_abrv'], \n",
    "                                                        1/home_win_prob, \n",
    "                                                        wc_score.loc[away, 'country_abrv'], \n",
    "                                                        1/(1-home_win_prob)))\n",
    "        odds.append([home_win_prob, 1-home_win_prob])\n",
    "                \n",
    "    next_round_wc = next_round_wc.loc[winners]\n",
    "    print(\"\\n\")"
   ]
  },
  {
   "cell_type": "code",
   "execution_count": 56,
   "id": "3513641c",
   "metadata": {},
   "outputs": [],
   "source": [
    "import networkx as nx\n",
    "import pydot\n",
    "from networkx.drawing.nx_pydot import graphviz_layout"
   ]
  },
  {
   "cell_type": "code",
   "execution_count": 58,
   "id": "83269a10",
   "metadata": {},
   "outputs": [
    {
     "ename": "ImportError",
     "evalue": "requires pygraphviz http://pygraphviz.github.io/",
     "output_type": "error",
     "traceback": [
      "\u001b[1;31m---------------------------------------------------------------------------\u001b[0m",
      "\u001b[1;31mModuleNotFoundError\u001b[0m                       Traceback (most recent call last)",
      "\u001b[1;32mC:\\ProgramData\\Anaconda3\\lib\\site-packages\\networkx\\drawing\\nx_agraph.py\u001b[0m in \u001b[0;36mpygraphviz_layout\u001b[1;34m(G, prog, root, args)\u001b[0m\n\u001b[0;32m    283\u001b[0m     \u001b[1;32mtry\u001b[0m\u001b[1;33m:\u001b[0m\u001b[1;33m\u001b[0m\u001b[1;33m\u001b[0m\u001b[0m\n\u001b[1;32m--> 284\u001b[1;33m         \u001b[1;32mimport\u001b[0m \u001b[0mpygraphviz\u001b[0m\u001b[1;33m\u001b[0m\u001b[1;33m\u001b[0m\u001b[0m\n\u001b[0m\u001b[0;32m    285\u001b[0m     \u001b[1;32mexcept\u001b[0m \u001b[0mImportError\u001b[0m \u001b[1;32mas\u001b[0m \u001b[0merr\u001b[0m\u001b[1;33m:\u001b[0m\u001b[1;33m\u001b[0m\u001b[1;33m\u001b[0m\u001b[0m\n",
      "\u001b[1;31mModuleNotFoundError\u001b[0m: No module named 'pygraphviz'",
      "\nThe above exception was the direct cause of the following exception:\n",
      "\u001b[1;31mImportError\u001b[0m                               Traceback (most recent call last)",
      "\u001b[1;32m~\\AppData\\Local\\Temp\\ipykernel_66368\\83345583.py\u001b[0m in \u001b[0;36m<module>\u001b[1;34m\u001b[0m\n\u001b[0;32m      2\u001b[0m \u001b[0mscale_factor\u001b[0m \u001b[1;33m=\u001b[0m \u001b[1;36m0.3\u001b[0m \u001b[1;31m# for visualization\u001b[0m\u001b[1;33m\u001b[0m\u001b[1;33m\u001b[0m\u001b[0m\n\u001b[0;32m      3\u001b[0m \u001b[0mG\u001b[0m \u001b[1;33m=\u001b[0m \u001b[0mnx\u001b[0m\u001b[1;33m.\u001b[0m\u001b[0mbalanced_tree\u001b[0m\u001b[1;33m(\u001b[0m\u001b[1;36m2\u001b[0m\u001b[1;33m,\u001b[0m \u001b[1;36m3\u001b[0m\u001b[1;33m)\u001b[0m\u001b[1;33m\u001b[0m\u001b[1;33m\u001b[0m\u001b[0m\n\u001b[1;32m----> 4\u001b[1;33m \u001b[0mpos\u001b[0m \u001b[1;33m=\u001b[0m \u001b[0mnx\u001b[0m\u001b[1;33m.\u001b[0m\u001b[0mnx_agraph\u001b[0m\u001b[1;33m.\u001b[0m\u001b[0mgraphviz_layout\u001b[0m\u001b[1;33m(\u001b[0m\u001b[0mG\u001b[0m\u001b[1;33m,\u001b[0m \u001b[0mprog\u001b[0m\u001b[1;33m=\u001b[0m\u001b[1;34m'twopi'\u001b[0m\u001b[1;33m,\u001b[0m \u001b[0margs\u001b[0m\u001b[1;33m=\u001b[0m\u001b[1;34m''\u001b[0m\u001b[1;33m)\u001b[0m\u001b[1;33m\u001b[0m\u001b[1;33m\u001b[0m\u001b[0m\n\u001b[0m\u001b[0;32m      5\u001b[0m \u001b[0mcentre\u001b[0m \u001b[1;33m=\u001b[0m \u001b[0mpd\u001b[0m\u001b[1;33m.\u001b[0m\u001b[0mDataFrame\u001b[0m\u001b[1;33m(\u001b[0m\u001b[0mpos\u001b[0m\u001b[1;33m)\u001b[0m\u001b[1;33m.\u001b[0m\u001b[0mmean\u001b[0m\u001b[1;33m(\u001b[0m\u001b[0maxis\u001b[0m\u001b[1;33m=\u001b[0m\u001b[1;36m1\u001b[0m\u001b[1;33m)\u001b[0m\u001b[1;33m.\u001b[0m\u001b[0mmean\u001b[0m\u001b[1;33m(\u001b[0m\u001b[1;33m)\u001b[0m\u001b[1;33m\u001b[0m\u001b[1;33m\u001b[0m\u001b[0m\n",
      "\u001b[1;32mC:\\ProgramData\\Anaconda3\\lib\\site-packages\\networkx\\drawing\\nx_agraph.py\u001b[0m in \u001b[0;36mgraphviz_layout\u001b[1;34m(G, prog, root, args)\u001b[0m\n\u001b[0;32m    240\u001b[0m     \u001b[0mThis\u001b[0m \u001b[1;32mis\u001b[0m \u001b[0ma\u001b[0m \u001b[0mwrapper\u001b[0m \u001b[1;32mfor\u001b[0m \u001b[0mpygraphviz_layout\u001b[0m\u001b[1;33m.\u001b[0m\u001b[1;33m\u001b[0m\u001b[1;33m\u001b[0m\u001b[0m\n\u001b[0;32m    241\u001b[0m     \"\"\"\n\u001b[1;32m--> 242\u001b[1;33m     \u001b[1;32mreturn\u001b[0m \u001b[0mpygraphviz_layout\u001b[0m\u001b[1;33m(\u001b[0m\u001b[0mG\u001b[0m\u001b[1;33m,\u001b[0m \u001b[0mprog\u001b[0m\u001b[1;33m=\u001b[0m\u001b[0mprog\u001b[0m\u001b[1;33m,\u001b[0m \u001b[0mroot\u001b[0m\u001b[1;33m=\u001b[0m\u001b[0mroot\u001b[0m\u001b[1;33m,\u001b[0m \u001b[0margs\u001b[0m\u001b[1;33m=\u001b[0m\u001b[0margs\u001b[0m\u001b[1;33m)\u001b[0m\u001b[1;33m\u001b[0m\u001b[1;33m\u001b[0m\u001b[0m\n\u001b[0m\u001b[0;32m    243\u001b[0m \u001b[1;33m\u001b[0m\u001b[0m\n\u001b[0;32m    244\u001b[0m \u001b[1;33m\u001b[0m\u001b[0m\n",
      "\u001b[1;32mC:\\ProgramData\\Anaconda3\\lib\\site-packages\\networkx\\drawing\\nx_agraph.py\u001b[0m in \u001b[0;36mpygraphviz_layout\u001b[1;34m(G, prog, root, args)\u001b[0m\n\u001b[0;32m    284\u001b[0m         \u001b[1;32mimport\u001b[0m \u001b[0mpygraphviz\u001b[0m\u001b[1;33m\u001b[0m\u001b[1;33m\u001b[0m\u001b[0m\n\u001b[0;32m    285\u001b[0m     \u001b[1;32mexcept\u001b[0m \u001b[0mImportError\u001b[0m \u001b[1;32mas\u001b[0m \u001b[0merr\u001b[0m\u001b[1;33m:\u001b[0m\u001b[1;33m\u001b[0m\u001b[1;33m\u001b[0m\u001b[0m\n\u001b[1;32m--> 286\u001b[1;33m         raise ImportError(\n\u001b[0m\u001b[0;32m    287\u001b[0m             \u001b[1;34m\"requires pygraphviz \"\u001b[0m \u001b[1;34m\"http://pygraphviz.github.io/\"\u001b[0m\u001b[1;33m\u001b[0m\u001b[1;33m\u001b[0m\u001b[0m\n\u001b[0;32m    288\u001b[0m         ) from err\n",
      "\u001b[1;31mImportError\u001b[0m: requires pygraphviz http://pygraphviz.github.io/"
     ]
    }
   ],
   "source": [
    "node_sizes = pd.DataFrame(list(reversed(odds)))\n",
    "scale_factor = 0.3 # for visualization\n",
    "G = nx.balanced_tree(2, 3)\n",
    "pos = nx.nx_agraph.graphviz_layout(G, prog='twopi', args='')\n",
    "centre = pd.DataFrame(pos).mean(axis=1).mean()"
   ]
  },
  {
   "cell_type": "code",
   "execution_count": null,
   "id": "f737a390",
   "metadata": {},
   "outputs": [],
   "source": []
  }
 ],
 "metadata": {
  "kernelspec": {
   "display_name": "Python 3 (ipykernel)",
   "language": "python",
   "name": "python3"
  },
  "language_info": {
   "codemirror_mode": {
    "name": "ipython",
    "version": 3
   },
   "file_extension": ".py",
   "mimetype": "text/x-python",
   "name": "python",
   "nbconvert_exporter": "python",
   "pygments_lexer": "ipython3",
   "version": "3.9.13"
  }
 },
 "nbformat": 4,
 "nbformat_minor": 5
}
